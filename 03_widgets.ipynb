{
 "cells": [
  {
   "cell_type": "markdown",
   "metadata": {
    "hideCode": false,
    "hidePrompt": false
   },
   "source": [
    "# 3.3. Mastering widgets in the Jupyter Notebook"
   ]
  },
  {
   "cell_type": "code",
   "execution_count": 1,
   "metadata": {
    "hideCode": false,
    "hideOutput": false,
    "hidePrompt": false
   },
   "outputs": [
    {
     "ename": "ModuleNotFoundError",
     "evalue": "No module named 'ipywidgets'",
     "output_type": "error",
     "traceback": [
      "\u001b[0;31m---------------------------------------------------------------------------\u001b[0m",
      "\u001b[0;31mModuleNotFoundError\u001b[0m                       Traceback (most recent call last)",
      "\u001b[0;32m<ipython-input-1-17cc5a665476>\u001b[0m in \u001b[0;36m<module>\u001b[0;34m\u001b[0m\n\u001b[0;32m----> 1\u001b[0;31m \u001b[0;32mimport\u001b[0m \u001b[0mipywidgets\u001b[0m \u001b[0;32mas\u001b[0m \u001b[0mwidgets\u001b[0m\u001b[0;34m\u001b[0m\u001b[0;34m\u001b[0m\u001b[0m\n\u001b[0m\u001b[1;32m      2\u001b[0m \u001b[0;32mfrom\u001b[0m \u001b[0mipywidgets\u001b[0m \u001b[0;32mimport\u001b[0m \u001b[0mHBox\u001b[0m\u001b[0;34m,\u001b[0m \u001b[0mVBox\u001b[0m\u001b[0;34m,\u001b[0m \u001b[0mLayout\u001b[0m\u001b[0;34m,\u001b[0m \u001b[0mBox\u001b[0m\u001b[0;34m\u001b[0m\u001b[0;34m\u001b[0m\u001b[0m\n\u001b[1;32m      3\u001b[0m \u001b[0;32mimport\u001b[0m \u001b[0mnumpy\u001b[0m \u001b[0;32mas\u001b[0m \u001b[0mnp\u001b[0m\u001b[0;34m\u001b[0m\u001b[0;34m\u001b[0m\u001b[0m\n\u001b[1;32m      4\u001b[0m \u001b[0;32mimport\u001b[0m \u001b[0mmatplotlib\u001b[0m\u001b[0;34m.\u001b[0m\u001b[0mpyplot\u001b[0m \u001b[0;32mas\u001b[0m \u001b[0mplt\u001b[0m\u001b[0;34m\u001b[0m\u001b[0;34m\u001b[0m\u001b[0m\n\u001b[1;32m      5\u001b[0m \u001b[0;32mfrom\u001b[0m \u001b[0mIPython\u001b[0m\u001b[0;34m.\u001b[0m\u001b[0mdisplay\u001b[0m \u001b[0;32mimport\u001b[0m \u001b[0mdisplay\u001b[0m\u001b[0;34m,\u001b[0m \u001b[0mclear_output\u001b[0m\u001b[0;34m\u001b[0m\u001b[0;34m\u001b[0m\u001b[0m\n",
      "\u001b[0;31mModuleNotFoundError\u001b[0m: No module named 'ipywidgets'"
     ]
    }
   ],
   "source": [
    "import ipywidgets as widgets\n",
    "from ipywidgets import HBox, VBox, Layout, Box\n",
    "import numpy as np\n",
    "import matplotlib.pyplot as plt\n",
    "from IPython.display import display, clear_output\n",
    "import collections\n",
    "%matplotlib inline"
   ]
  },
  {
   "cell_type": "code",
   "execution_count": null,
   "metadata": {
    "hideCode": false,
    "hidePrompt": false
   },
   "outputs": [],
   "source": [
    "\n",
    "def live_plot(imax=-1,freq=1., color='blue', lw=2, grid=True):\n",
    "    clear_output(wait=True)\n",
    "    t = np.linspace(-1., +1., 100)\n",
    "    t=t[0:imax]\n",
    "    fig, ax = plt.subplots(1, 1, figsize=(8, 6))\n",
    "    ax.plot(t, np.sin(2 * np.pi * freq * t),\n",
    "            lw=lw, color=color)\n",
    "    ax.grid(grid)\n",
    "    plt.show();\n",
    "    \n",
    "@widgets.interact_manual(\n",
    "    color=['blue', 'red', 'green'], lw=(1., 10.))\n",
    "def run(freq=1., color='blue', lw=2, grid=True):\n",
    "    for i in range(100):\n",
    "        live_plot(imax=i,freq=freq, color=color, lw=lw, grid=grid)"
   ]
  },
  {
   "cell_type": "code",
   "execution_count": null,
   "metadata": {
    "hideCode": false,
    "hidePrompt": false,
    "podoc": {
     "output_text": "Interact manual"
    }
   },
   "outputs": [],
   "source": [
    "@widgets.interact_manual(\n",
    "    color=['blue', 'red', 'green'], lw=(1., 10.))\n",
    "def plot(freq=1., color='blue', lw=2, grid=True):\n",
    "    t = np.linspace(-1., +1., 1000)\n",
    "    fig, ax = plt.subplots(1, 1, figsize=(8, 6))\n",
    "    ax.plot(t, np.sin(2 * np.pi * freq * t),\n",
    "            lw=lw, color=color)\n",
    "    ax.grid(grid)"
   ]
  },
  {
   "cell_type": "code",
   "execution_count": null,
   "metadata": {
    "hideCode": false,
    "hidePrompt": false,
    "podoc": {
     "output_text": "Interact manual"
    }
   },
   "outputs": [],
   "source": [
    "freq_slider = widgets.FloatSlider(\n",
    "    value=2.,\n",
    "    min=1.,\n",
    "    max=10.0,\n",
    "    step=0.1,\n",
    "    description='Frequency:',\n",
    "    readout_format='.1f',\n",
    ")"
   ]
  },
  {
   "cell_type": "code",
   "execution_count": null,
   "metadata": {
    "hideCode": false,
    "hidePrompt": false,
    "podoc": {
     "output_text": "Range slider"
    }
   },
   "outputs": [],
   "source": [
    "range_slider = widgets.FloatRangeSlider(\n",
    "    value=[-1., +1.],\n",
    "    min=-5., max=+5., step=0.1,\n",
    "    description='xlim:',\n",
    "    readout_format='.1f',\n",
    ")"
   ]
  },
  {
   "cell_type": "code",
   "execution_count": null,
   "metadata": {
    "hideCode": false,
    "hidePrompt": false,
    "podoc": {
     "output_text": "Toggle button widget"
    }
   },
   "outputs": [],
   "source": [
    "grid_button = widgets.ToggleButton(\n",
    "    value=False,\n",
    "    description='Grid',\n",
    "    icon='check'\n",
    ")"
   ]
  },
  {
   "cell_type": "code",
   "execution_count": null,
   "metadata": {
    "hideCode": false,
    "hidePrompt": false,
    "podoc": {
     "output_text": "Toggle buttons"
    }
   },
   "outputs": [],
   "source": [
    "color_buttons = widgets.ToggleButtons(\n",
    "    options=['blue', 'red', 'green'],\n",
    "    description='Color:',\n",
    ")"
   ]
  },
  {
   "cell_type": "code",
   "execution_count": null,
   "metadata": {
    "hideCode": false,
    "hidePrompt": false,
    "podoc": {
     "output_text": "Text widget"
    }
   },
   "outputs": [],
   "source": [
    "title_textbox = widgets.Text(\n",
    "    value='Hello World',\n",
    "    description='Title:',\n",
    ")\n",
    "title_textbox"
   ]
  },
  {
   "cell_type": "code",
   "execution_count": null,
   "metadata": {
    "hideCode": false,
    "hidePrompt": false,
    "podoc": {
     "output_text": "Color picker"
    }
   },
   "outputs": [],
   "source": [
    "color_picker = widgets.ColorPicker(\n",
    "    concise=True,\n",
    "    description='Background color:',\n",
    "    value='#efefef',\n",
    ")"
   ]
  },
  {
   "cell_type": "code",
   "execution_count": null,
   "metadata": {
    "hideCode": false,
    "hidePrompt": false,
    "podoc": {
     "output_text": "Button widget"
    }
   },
   "outputs": [],
   "source": [
    "button = widgets.Button(\n",
    "    description='Run',icon=\"fa-play\",button_style='danger'\n",
    ")\n",
    "button"
   ]
  },
  {
   "cell_type": "code",
   "execution_count": null,
   "metadata": {
    "hideCode": false,
    "hidePrompt": false
   },
   "outputs": [],
   "source": [
    "def plot2(b=None):\n",
    "    xlim = range_slider.value\n",
    "    freq = freq_slider.value\n",
    "    grid = grid_button.value\n",
    "    color = color_buttons.value\n",
    "    title = title_textbox.value\n",
    "    bgcolor = color_picker.value\n",
    "\n",
    "    t = np.linspace(xlim[0], xlim[1], 1000)\n",
    "    f, ax = plt.subplots(1, 1, figsize=(8, 6))\n",
    "    ax.plot(t, np.sin(2 * np.pi * freq * t),\n",
    "            color=color)\n",
    "    plt.title(title)\n",
    "    ax.grid(grid)"
   ]
  },
  {
   "cell_type": "code",
   "execution_count": null,
   "metadata": {
    "hideCode": false,
    "hidePrompt": false
   },
   "outputs": [],
   "source": [
    "@button.on_click\n",
    "def plot_on_click(b):\n",
    "    out.clear_output(wait=True)\n",
    "    with out:\n",
    "        plot2()\n",
    "        plt.show()"
   ]
  },
  {
   "cell_type": "code",
   "execution_count": null,
   "metadata": {
    "hideCode": false,
    "hidePrompt": false
   },
   "outputs": [],
   "source": [
    "items_layout = Layout( )     # override the default width of the button to 'auto' to let the button grow\n",
    "\n",
    "box_layout = Layout()\n",
    "out = widgets.Output()\n",
    "params = VBox(children=[freq_slider,\n",
    "                      range_slider,\n",
    "                      title_textbox,\n",
    "                      grid_button,button\n",
    "                      ])\n",
    "plots = Box(children=[out])"
   ]
  },
  {
   "cell_type": "code",
   "execution_count": null,
   "metadata": {
    "hideCode": false,
    "hidePrompt": false
   },
   "outputs": [],
   "source": [
    "Box(children=[params, out])"
   ]
  },
  {
   "cell_type": "code",
   "execution_count": null,
   "metadata": {
    "hideCode": false,
    "hidePrompt": false
   },
   "outputs": [],
   "source": []
  },
  {
   "cell_type": "code",
   "execution_count": null,
   "metadata": {
    "hideCode": false,
    "hidePrompt": false
   },
   "outputs": [],
   "source": []
  },
  {
   "cell_type": "code",
   "execution_count": null,
   "metadata": {
    "hideCode": false,
    "hidePrompt": false
   },
   "outputs": [],
   "source": []
  }
 ],
 "metadata": {
  "hide_code_all_hidden": false,
  "kernelspec": {
   "display_name": "Python 3",
   "language": "python",
   "name": "python3"
  },
  "language_info": {
   "codemirror_mode": {
    "name": "ipython",
    "version": 3
   },
   "file_extension": ".py",
   "mimetype": "text/x-python",
   "name": "python",
   "nbconvert_exporter": "python",
   "pygments_lexer": "ipython3",
   "version": "3.7.3"
  }
 },
 "nbformat": 4,
 "nbformat_minor": 2
}
